{
 "cells": [
  {
   "cell_type": "markdown",
   "id": "3c26b2ff",
   "metadata": {},
   "source": [
    "학습목표\n",
    "\n",
    "- 배열과 리스트의 차이점을 알고 배열을 사용하는 이유를 이해한다.\n",
    "- 배열을 생성하고 다루는 방법을 익힌다.\n",
    "- 넘파이를 사용하여 기술 통계를 낼 수 있다.\n",
    "- 난수를 발생시키고 그 결과를 분석하는 방법을 공부 "
   ]
  },
  {
   "cell_type": "markdown",
   "id": "f4739270",
   "metadata": {},
   "source": [
    "# 넘파이 배열"
   ]
  },
  {
   "cell_type": "markdown",
   "id": "6d38addd",
   "metadata": {},
   "source": [
    "- 많은 숫자 데이터를 하나의 변수에 넣고 관리 할 때 리스트는 속도가 느리고 메모리를 많이 차지하는 단점이 있다. \n",
    "- 배열(array)을 사용하면 적은 메모리로 많은 데이터를 빠르게 처리할 수 있다. \n",
    "- 배열은 리스트와 비슷하지만 다음과 같은 점이 다르다.\n",
    "    1. 모든 원소가 같은 자료형이어야 한다.\n",
    "    2. 원소의 갯수를 바꿀 수 없다."
   ]
  },
  {
   "cell_type": "code",
   "execution_count": 1,
   "id": "d5e95086",
   "metadata": {},
   "outputs": [],
   "source": [
    "# 넘파이 패키지 import \n",
    "import numpy as np"
   ]
  },
  {
   "cell_type": "code",
   "execution_count": 3,
   "id": "18284b26",
   "metadata": {},
   "outputs": [
    {
     "name": "stdout",
     "output_type": "stream",
     "text": [
      "[0 1 2 3 4 5 6 7 8 9]\n",
      "<class 'numpy.ndarray'>\n"
     ]
    }
   ],
   "source": [
    "# 1차원 배열 만들기\n",
    "# 넘파이의 array함수에 리스트를 넣으면 ndarray 클래스 객체 즉, 배열로 변환해 준다. \n",
    "ar = np.array([0,1,2,3,4,5,6,7,8,9])\n",
    "print(ar)\n",
    "print(type(ar))"
   ]
  },
  {
   "cell_type": "markdown",
   "id": "7f09b3dd",
   "metadata": {},
   "source": [
    "- 만들어진 ndarray 객체의 표현식을 보면 바깥쪽에 array()란 것이 붙어 있을 뿐 리스트와 동일한 구조처럼 보인다. \n",
    "- 그러나 배열 객체와 리스트 객체는 많은 차이가 있다. \n",
    "\n",
    "- 우선 리스트 클래스 객체는 각각의 원소가 다른 자료형이 될 수 있다. \n",
    "- 그러나 배열 객체는 C언어의 배열처럼 연속적인 메모리 배치를 가지기 때문에 모든 원소가 같은 자료형이어야 한다.\n",
    "- 이러한 제약사항이 있는 대신 원소에 대한 접근과 반복문 실행이 빨라진다."
   ]
  },
  {
   "cell_type": "markdown",
   "id": "30a79f70",
   "metadata": {},
   "source": [
    "### 벡터화 연산"
   ]
  },
  {
   "cell_type": "code",
   "execution_count": 13,
   "id": "47e69dbd",
   "metadata": {},
   "outputs": [
    {
     "name": "stdout",
     "output_type": "stream",
     "text": [
      "list 연산 결과 : [0, 2, 4, 6, 8, 10, 12, 14, 16, 18]\n",
      "벡터화 연산 결과 : [ 0  2  4  6  8 10 12 14 16 18]\n",
      "list 객체에 정수 곱한 결과 : [0, 1, 2, 3, 4, 5, 6, 7, 8, 9, 0, 1, 2, 3, 4, 5, 6, 7, 8, 9]\n"
     ]
    }
   ],
   "source": [
    "'''\n",
    "- 배열 객체는 배열의 각 원소에 대한 반복 연산을 하나의 명령어로 처리하는 벡터화 연산을 지원한다.\n",
    "- 예를 들어 다음처럼 여러개의 데이터를 모두 2배 해야 하는 경우를 생각해보자.\n",
    "'''\n",
    "\n",
    "# List로 연산\n",
    "data = [0,1,2,3,4,5,6,7,8,9]\n",
    "\n",
    "answer = []\n",
    "for di in data:\n",
    "    answer.append(2*di)\n",
    "print(f'list 연산 결과 : {answer}')\n",
    "\n",
    "# 벡터화 연산 : for문 없이 한번의 연산으로 할 수 있다. 계산 속도도 반복문 사용할 때 보다 훨씬 빠르다.\n",
    "x = np.array(data)\n",
    "print(f'벡터화 연산 결과 : {2*x}')\n",
    "\n",
    "# 일반적인 리스트 객체에 정수를 곱하면 객체의 크기가 정수배 만큼으로 증가한다. \n",
    "L = [0,1,2,3,4,5,6,7,8,9]\n",
    "print(f'list 객체에 정수 곱한 결과 : {L*2}')"
   ]
  },
  {
   "cell_type": "code",
   "execution_count": 17,
   "id": "d7f61d8a",
   "metadata": {},
   "outputs": [
    {
     "name": "stdout",
     "output_type": "stream",
     "text": [
      "[12 24 36]\n",
      "[False  True False]\n",
      "[False  True  True]\n",
      "[False  True False]\n"
     ]
    }
   ],
   "source": [
    "'''\n",
    "벡터화 연산은 비교 연산과 논리 연산을 포함한 모든 종류의 수학 연산에 대해 적용된다. \n",
    "'''\n",
    "a = np.array([1,2,3])\n",
    "b = np.array([10,20,30])\n",
    "\n",
    "print(2 * a + b)\n",
    "print(a == 2)\n",
    "print(b > 10)\n",
    "print((a == 2) & (b > 10))"
   ]
  },
  {
   "cell_type": "markdown",
   "id": "720240a5",
   "metadata": {},
   "source": [
    "### 2차원 배열 만들기"
   ]
  },
  {
   "cell_type": "code",
   "execution_count": 21,
   "id": "f4f31620",
   "metadata": {},
   "outputs": [
    {
     "name": "stdout",
     "output_type": "stream",
     "text": [
      "[[0 1 2]\n",
      " [3 4 5]]\n",
      "2 3\n"
     ]
    }
   ],
   "source": [
    "'''\n",
    "ndarray는 N-dimensional Array의 약자이다.\n",
    "이름 그대로 1차원 배열 이외에도 2차원 배열, 3차원 배열 등 다차원 배열 구조를 지원한다. \n",
    "2차원 배열은 행렬(Metrix)이라고 하는데 행렬에서는 가로줄을 행(row)이라고 하고 세로줄을 열(column)이라고 부른다.\n",
    "2차원 배열 생성 , 안쪽 리스트의 길이는 행렬의 열의 수 (가로 크기), 바깥쪽 리스트의 길이는 행렬의 행의 수 (세로 크기)\n",
    "'''\n",
    "c = np.array([[0,1,2],[3,4,5]]) \n",
    "print(c)\n",
    "print(len(c), len(c[0])) # 행의 개수와 열의 개수 구하기"
   ]
  },
  {
   "cell_type": "markdown",
   "id": "131b7117",
   "metadata": {},
   "source": [
    "### 3차원 배열 만들기"
   ]
  },
  {
   "cell_type": "code",
   "execution_count": 23,
   "id": "ee125ddb",
   "metadata": {},
   "outputs": [
    {
     "data": {
      "text/plain": [
       "(2, 3, 4)"
      ]
     },
     "execution_count": 23,
     "metadata": {},
     "output_type": "execute_result"
    }
   ],
   "source": [
    "'''\n",
    "리스트의 리스트의 리스트를 이용하면 3차원 배열도 생성할 수 있다. \n",
    "크기를 나타낼 때는 가장 바깥쪽 리스트의 길이부터 가장 안쪽 리스트의 길이의 순서로 표시한다. \n",
    "예를 들어, 2*3*4 배열은 다음과 같이 만든다.\n",
    "'''\n",
    "d = np.array([[[1,2,3,4],\n",
    "              [5,6,7,8],\n",
    "              [9,10,11,12]],\n",
    "             [[11,12,13,14],\n",
    "             [15,16,17,18],\n",
    "             [19,20,21,22]]]) # 2 x 3 x 4 array\n",
    "\n",
    "# 3차원 배열의 깊이, 행, 열\n",
    "len(d), len(d[0]), len(d[0][0])"
   ]
  },
  {
   "cell_type": "markdown",
   "id": "c5968bec",
   "metadata": {},
   "source": [
    "### 배열의 차원과 크기 알아내기\n",
    "- 배열의 차원 및 크기를 구하는 더 간단한 방법은 배열의 ndim 속성과 shape 속성을 이용하는 것이다 \n",
    "- ndim 속성은 배열의 차원, shape 속성은 배열의 크기를 반환한다."
   ]
  },
  {
   "cell_type": "code",
   "execution_count": 26,
   "id": "0e71494f",
   "metadata": {},
   "outputs": [
    {
     "name": "stdout",
     "output_type": "stream",
     "text": [
      "2\n",
      "(2, 3)\n",
      "3\n",
      "(2, 3, 4)\n"
     ]
    }
   ],
   "source": [
    "# c = np.array([[0,1,2],[3,4,5]]) \n",
    "print(c.ndim)\n",
    "print(c.shape)\n",
    "\n",
    "# d = np.array([[[1,2,3,4],\n",
    "#               [5,6,7,8],\n",
    "#               [9,10,11,12]],\n",
    "#              [[11,12,13,14],\n",
    "#              [15,16,17,18],\n",
    "#              [19,20,21,22]]])\n",
    "\n",
    "print(d.ndim)\n",
    "print(d.shape)"
   ]
  },
  {
   "cell_type": "markdown",
   "id": "cce3e445",
   "metadata": {},
   "source": [
    "### 배열의 인덱싱\n",
    "- 일차원 배열의 인덱싱은 리스트의 인덱싱과 같다."
   ]
  },
  {
   "cell_type": "code",
   "execution_count": 27,
   "id": "cd6d445a",
   "metadata": {},
   "outputs": [
    {
     "data": {
      "text/plain": [
       "2"
      ]
     },
     "execution_count": 27,
     "metadata": {},
     "output_type": "execute_result"
    }
   ],
   "source": [
    "a = np.array([0,1,2,3,4])\n",
    "a[2]"
   ]
  },
  {
   "cell_type": "code",
   "execution_count": 28,
   "id": "4c726b66",
   "metadata": {},
   "outputs": [
    {
     "data": {
      "text/plain": [
       "4"
      ]
     },
     "execution_count": 28,
     "metadata": {},
     "output_type": "execute_result"
    }
   ],
   "source": [
    "a[-1]"
   ]
  },
  {
   "cell_type": "code",
   "execution_count": 29,
   "id": "d8343127",
   "metadata": {},
   "outputs": [
    {
     "data": {
      "text/plain": [
       "array([[0, 1, 2],\n",
       "       [3, 4, 5]])"
      ]
     },
     "execution_count": 29,
     "metadata": {},
     "output_type": "execute_result"
    }
   ],
   "source": [
    "'''\n",
    "다차원 배열일 때는 다음과 같이 콤마(comma,)를 사용하여 접근할 수 있다. \n",
    "콤마로 구분된 차원을 축 (axis)이라고도 한다.\n",
    "그래프의 x축과 y축을 떠올리면 될 듯!\n",
    "'''\n",
    "a = np.array([[0,1,2],[3,4,5]])\n",
    "a"
   ]
  },
  {
   "cell_type": "code",
   "execution_count": 30,
   "id": "bc865530",
   "metadata": {},
   "outputs": [
    {
     "name": "stdout",
     "output_type": "stream",
     "text": [
      "0\n",
      "1\n",
      "5\n"
     ]
    }
   ],
   "source": [
    "print(a[0,0]) # 첫번째 행의 첫번째 열\n",
    "print(a[0,1]) # 첫번쨰 행의 두번째 열\n",
    "print(a[-1,-1]) # 마지막 행의 마지막 열"
   ]
  },
  {
   "cell_type": "markdown",
   "id": "7865281a",
   "metadata": {},
   "source": [
    "### 배열 슬라이싱\n",
    "- 배열 객체로 구현한 다차원 배열의 원소 중 복수 개를 접근하려면 일반적인 파이썬 슬라이싱(slicing)과 comma(,)를 함께 사용하면된다."
   ]
  },
  {
   "cell_type": "code",
   "execution_count": 31,
   "id": "238fb895",
   "metadata": {},
   "outputs": [
    {
     "data": {
      "text/plain": [
       "array([[0, 1, 2, 3],\n",
       "       [4, 5, 6, 7]])"
      ]
     },
     "execution_count": 31,
     "metadata": {},
     "output_type": "execute_result"
    }
   ],
   "source": [
    "a = np.array([[0,1,2,3],[4,5,6,7]])\n",
    "a"
   ]
  },
  {
   "cell_type": "code",
   "execution_count": 32,
   "id": "ede8de47",
   "metadata": {},
   "outputs": [
    {
     "data": {
      "text/plain": [
       "array([0, 1, 2, 3])"
      ]
     },
     "execution_count": 32,
     "metadata": {},
     "output_type": "execute_result"
    }
   ],
   "source": [
    "a[0,:] # 첫번재 행 전체"
   ]
  },
  {
   "cell_type": "code",
   "execution_count": 33,
   "id": "8370d8d2",
   "metadata": {},
   "outputs": [
    {
     "data": {
      "text/plain": [
       "array([1, 5])"
      ]
     },
     "execution_count": 33,
     "metadata": {},
     "output_type": "execute_result"
    }
   ],
   "source": [
    "a[:,1] # 두번째 열 전체"
   ]
  },
  {
   "cell_type": "code",
   "execution_count": 34,
   "id": "148d61a2",
   "metadata": {},
   "outputs": [
    {
     "data": {
      "text/plain": [
       "array([[0, 1],\n",
       "       [4, 5]])"
      ]
     },
     "execution_count": 34,
     "metadata": {},
     "output_type": "execute_result"
    }
   ],
   "source": [
    "a[:2,:2]"
   ]
  },
  {
   "cell_type": "markdown",
   "id": "35d42d69",
   "metadata": {},
   "source": [
    "### 연습문제 "
   ]
  },
  {
   "cell_type": "code",
   "execution_count": 35,
   "id": "c383c2c6",
   "metadata": {},
   "outputs": [],
   "source": [
    "# 다음 행렬과 같은 행렬이 있다. \n",
    "\n",
    "m = np.array([[0,1,2,3,4],\n",
    "              [5,6,7,8,9],\n",
    "              [10,11,12,13,14]])"
   ]
  },
  {
   "cell_type": "code",
   "execution_count": 49,
   "id": "bd352aee",
   "metadata": {},
   "outputs": [
    {
     "name": "stdout",
     "output_type": "stream",
     "text": [
      "7\n",
      "14\n",
      "[6 7]\n",
      "[ 7 12]\n",
      "[[3 4]\n",
      " [8 9]]\n"
     ]
    }
   ],
   "source": [
    "# 1. 이 행렬에서 값 7을 인덱싱한다. \n",
    "print(m[1,2])\n",
    "\n",
    "# 2. 이 행렬에서 값 14을 인덱싱한다.\n",
    "print(m[2,4])\n",
    "\n",
    "# 3. 이 행렬에서 배열 [6, 7] 을 슬라이싱한다.\n",
    "print(m[1,1:3])\n",
    "\n",
    "# 4. 이 행렬에서 배열 [7, 12] 을 슬라이싱한다.\n",
    "print(m[1:,2])\n",
    "\n",
    "# 5. 이 행렬에서 배열 [[3, 4], [8, 9]] 을 슬라이싱한다.\n",
    "print(m[0:2,3:])"
   ]
  },
  {
   "cell_type": "markdown",
   "id": "477865e4",
   "metadata": {},
   "source": [
    "### 배열 인덱싱\n",
    "- 인덱싱이라는 이름이 붙었지만 사실은 데이터 베이스의 질의(Query) 기능을 수행한다. \n",
    "- 배열 인덱싱에서는 대괄호 (Bracket,[])안의 인덱스 정보로 숫자나 슬라이스가 아니라 위치 정보를 나타내는 또 다른 ndarray 배열을 받을 수 있다. \n",
    "- 여기에서는 이 배열의 편의상 인덱스 배열이라고 부른다. \n",
    "\n",
    "- 불리안 배열 인덱싱 방식은 인덱스 배열의 원소가 True, False 두 값으로만 구성되며 인덱스 배열의 크기가 원래 ndarray객체의 크기와 같아야 한다. \n"
   ]
  },
  {
   "cell_type": "code",
   "execution_count": 50,
   "id": "38387a27",
   "metadata": {},
   "outputs": [
    {
     "data": {
      "text/plain": [
       "array([0, 2, 4, 6, 8])"
      ]
     },
     "execution_count": 50,
     "metadata": {},
     "output_type": "execute_result"
    }
   ],
   "source": [
    "# 예를 들어 다음과 같은 1차원 ndarray에서 짝수인 원소만 골라내려면 짝수인 원소에 대응하는 인덱스 값이 True이고 \n",
    "# 홀수인 원소에 대응하는 인덱스 값이 False인 인덱스 배열을 넣으면된다. \n",
    "\n",
    "a = np.array([0,1,2,3,4,5,6,7,8,9])\n",
    "idx = np.array([True,False,True,False,True,\n",
    "               False,True,False,True,False])\n",
    "a[idx]"
   ]
  },
  {
   "cell_type": "code",
   "execution_count": 51,
   "id": "f4f38c71",
   "metadata": {},
   "outputs": [
    {
     "data": {
      "text/plain": [
       "array([ True, False,  True, False,  True, False,  True, False,  True,\n",
       "       False])"
      ]
     },
     "execution_count": 51,
     "metadata": {},
     "output_type": "execute_result"
    }
   ],
   "source": [
    "a % 2 == 0"
   ]
  },
  {
   "cell_type": "code",
   "execution_count": 52,
   "id": "b53aef7e",
   "metadata": {},
   "outputs": [
    {
     "data": {
      "text/plain": [
       "array([0, 2, 4, 6, 8])"
      ]
     },
     "execution_count": 52,
     "metadata": {},
     "output_type": "execute_result"
    }
   ],
   "source": [
    "a[a % 2 == 0]"
   ]
  },
  {
   "cell_type": "code",
   "execution_count": 53,
   "id": "af4d59c1",
   "metadata": {},
   "outputs": [
    {
     "data": {
      "text/plain": [
       "array([11, 33, 55, 77, 99])"
      ]
     },
     "execution_count": 53,
     "metadata": {},
     "output_type": "execute_result"
    }
   ],
   "source": [
    "# 정수 배열 인덱싱에서는 인덱스 배열의 원소 각각이 원래 ndarray 객체 원소 하나를 가리키는 인덱스 정수이어야 한다. \n",
    "# 예를 들어서 1차원 배열에서 홀수번째 원소만 골라내는 것은 다음과 같다. \n",
    "a = np.array([11,22,33,44,55,66,77,88,99])\n",
    "idx = np.array([0,2,4,6,8]) # 인덱스의 길이가 원래의 배열 길이와 달라도 상관없다.\n",
    "a[idx]"
   ]
  },
  {
   "cell_type": "code",
   "execution_count": 54,
   "id": "dbc4e360",
   "metadata": {},
   "outputs": [
    {
     "data": {
      "text/plain": [
       "array([11, 11, 11, 11, 11, 11, 22, 22, 22, 22, 22, 33, 33, 33, 33, 33])"
      ]
     },
     "execution_count": 54,
     "metadata": {},
     "output_type": "execute_result"
    }
   ],
   "source": [
    "# 같은 원소를 반복해서 가리키는 경우에는 배열 인덱스가 원래의 배열보다 더 커지기도 한다. \n",
    "a = np.array([11,22,33,44,55,66,77,88,99])\n",
    "idx = np.array([0,0,0,0,0,0,1,1,1,1,1,2,2,2,2,2])\n",
    "a[idx]"
   ]
  },
  {
   "cell_type": "code",
   "execution_count": 55,
   "id": "68d28b6a",
   "metadata": {},
   "outputs": [
    {
     "data": {
      "text/plain": [
       "array([[ 1,  2,  3,  4],\n",
       "       [ 5,  6,  7,  8],\n",
       "       [ 9, 10, 11, 12]])"
      ]
     },
     "execution_count": 55,
     "metadata": {},
     "output_type": "execute_result"
    }
   ],
   "source": [
    "# 배열 인덱싱은 다차원 배열의 각 차원에 대해서도 할 수 있다.\n",
    "a = np.array([[1,2,3,4],[5,6,7,8],[9,10,11,12]])\n",
    "a"
   ]
  },
  {
   "cell_type": "code",
   "execution_count": 56,
   "id": "805834a4",
   "metadata": {},
   "outputs": [
    {
     "data": {
      "text/plain": [
       "array([[ 1,  4],\n",
       "       [ 5,  8],\n",
       "       [ 9, 12]])"
      ]
     },
     "execution_count": 56,
     "metadata": {},
     "output_type": "execute_result"
    }
   ],
   "source": [
    "a[:,[True,False,False,True]]"
   ]
  },
  {
   "cell_type": "code",
   "execution_count": 57,
   "id": "fe21fd88",
   "metadata": {},
   "outputs": [
    {
     "data": {
      "text/plain": [
       "array([[ 9, 10, 11, 12],\n",
       "       [ 1,  2,  3,  4],\n",
       "       [ 5,  6,  7,  8]])"
      ]
     },
     "execution_count": 57,
     "metadata": {},
     "output_type": "execute_result"
    }
   ],
   "source": [
    "a[[2,0,1],:]"
   ]
  },
  {
   "cell_type": "code",
   "execution_count": 58,
   "id": "f4394b62",
   "metadata": {},
   "outputs": [
    {
     "data": {
      "text/plain": [
       "array([[ 9, 10, 11, 12],\n",
       "       [ 1,  2,  3,  4],\n",
       "       [ 5,  6,  7,  8]])"
      ]
     },
     "execution_count": 58,
     "metadata": {},
     "output_type": "execute_result"
    }
   ],
   "source": [
    "a[[2,0,1],:]"
   ]
  },
  {
   "cell_type": "markdown",
   "id": "0b3c6a06",
   "metadata": {},
   "source": [
    "### 연습문제 \n"
   ]
  },
  {
   "cell_type": "code",
   "execution_count": 63,
   "id": "9873d5b7",
   "metadata": {},
   "outputs": [
    {
     "name": "stdout",
     "output_type": "stream",
     "text": [
      "[ 3  6  9 12 15 18]\n",
      "[ 1  5  9 13 17]\n",
      "[9]\n"
     ]
    }
   ],
   "source": [
    "x = np.array([1, 2, 3, 4, 5, 6, 7, 8, 9, 10,\n",
    "             11, 12, 13, 14, 15, 16, 17, 18, 19, 20])\n",
    "\n",
    "#1. 이 배열의 3의 배수.\n",
    "print(x[x % 3 == 0])\n",
    "\n",
    "#2. 이 배열에서 4로 나누면 1이 남는 수를 찾아라.\n",
    "print(x[x % 4 == 1])\n",
    "\n",
    "#3. 이 배열에서 3으로 나누면 나누어지고 4로 나누면 1이 남는 수를 찾아라.\n",
    "print(x[(x % 3 == 0)&(x % 4 == 1)])"
   ]
  },
  {
   "cell_type": "code",
   "execution_count": null,
   "id": "a68b6d17",
   "metadata": {},
   "outputs": [],
   "source": []
  }
 ],
 "metadata": {
  "kernelspec": {
   "display_name": "tf",
   "language": "python",
   "name": "tf"
  },
  "language_info": {
   "codemirror_mode": {
    "name": "ipython",
    "version": 3
   },
   "file_extension": ".py",
   "mimetype": "text/x-python",
   "name": "python",
   "nbconvert_exporter": "python",
   "pygments_lexer": "ipython3",
   "version": "3.8.12"
  }
 },
 "nbformat": 4,
 "nbformat_minor": 5
}
