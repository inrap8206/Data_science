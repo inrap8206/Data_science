{
 "cells": [
  {
   "cell_type": "markdown",
   "id": "5207f8d6",
   "metadata": {},
   "source": [
    "# 난수발생과 카운팅\n",
    "파이썬을 이용하여 데이터를 무작위로 섞거나 임의의 수 즉, 난수(random number)를 발생시키는 방법<br> \n",
    "이 기능은 주로 NumPy의 random 서브패키지에서 제공한다."
   ]
  },
  {
   "cell_type": "code",
   "execution_count": 2,
   "id": "f41c5f94",
   "metadata": {},
   "outputs": [],
   "source": [
    "import numpy as np"
   ]
  },
  {
   "cell_type": "markdown",
   "id": "945c1d07",
   "metadata": {},
   "source": [
    "## 시드 설정하기"
   ]
  },
  {
   "cell_type": "markdown",
   "id": "e03e9df5",
   "metadata": {},
   "source": [
    "- 컴퓨터 프로그램에서 발생하는 무작위 수는 어떤 특정한 시작 숫자를 정해 주면 컴퓨터가 정해진 알고리즘에 의해 난수처럼 보이는 수열을 생성한다.\n",
    "- 이런 시작 숫자를 시드(`seed`)라고 한다. \n",
    "- 생성된 난수는 다음번 난수 생성을 위한 시드값이 된다. 그래서 시드값은 한번만 정해주면 된다. \n",
    "- 시드(`seed`)는 보통 현재 시각등을 이용하여 자동으로 정해지지만 사람이 수동으로 설정할 수도 있다. \n",
    "- 특정한 시드값이 사용되면 그 다음에 만들어지는 난수들은 예측이 가능하다.\n",
    "- 파이썬에서 시드를 설정하는 함수는 `seed`이다. 인수로는 0과 같거나 큰 정수를 넣어준다."
   ]
  },
  {
   "cell_type": "code",
   "execution_count": 22,
   "id": "7bd7b504",
   "metadata": {},
   "outputs": [],
   "source": [
    "np.random.seed(0)"
   ]
  },
  {
   "cell_type": "code",
   "execution_count": 23,
   "id": "4c6d9823",
   "metadata": {},
   "outputs": [
    {
     "data": {
      "text/plain": [
       "array([0.5488135 , 0.71518937, 0.60276338, 0.54488318, 0.4236548 ])"
      ]
     },
     "execution_count": 23,
     "metadata": {},
     "output_type": "execute_result"
    }
   ],
   "source": [
    "np.random.rand(5)"
   ]
  },
  {
   "cell_type": "code",
   "execution_count": 24,
   "id": "73fa9fce",
   "metadata": {},
   "outputs": [
    {
     "data": {
      "text/plain": [
       "array([0.64589411, 0.43758721, 0.891773  , 0.96366276, 0.38344152,\n",
       "       0.79172504, 0.52889492, 0.56804456, 0.92559664, 0.07103606])"
      ]
     },
     "execution_count": 24,
     "metadata": {},
     "output_type": "execute_result"
    }
   ],
   "source": [
    "np.random.rand(10)"
   ]
  },
  {
   "cell_type": "code",
   "execution_count": 25,
   "id": "c84d4d17",
   "metadata": {},
   "outputs": [
    {
     "data": {
      "text/plain": [
       "array([0.0871293 , 0.0202184 , 0.83261985, 0.77815675, 0.87001215,\n",
       "       0.97861834, 0.79915856, 0.46147936, 0.78052918, 0.11827443])"
      ]
     },
     "execution_count": 25,
     "metadata": {},
     "output_type": "execute_result"
    }
   ],
   "source": [
    "np.random.rand(10)"
   ]
  },
  {
   "cell_type": "markdown",
   "id": "c7489cb2",
   "metadata": {},
   "source": [
    "시드를 0으로 재설정하고 다시 난수를 발생시켜 보면 위의 결과와 같은 것을 확인 할 수 있다."
   ]
  },
  {
   "cell_type": "code",
   "execution_count": 30,
   "id": "96ebb64c",
   "metadata": {},
   "outputs": [],
   "source": [
    "np.random.seed(0)"
   ]
  },
  {
   "cell_type": "code",
   "execution_count": 31,
   "id": "dded5c7e",
   "metadata": {},
   "outputs": [
    {
     "data": {
      "text/plain": [
       "array([0.5488135 , 0.71518937, 0.60276338, 0.54488318, 0.4236548 ])"
      ]
     },
     "execution_count": 31,
     "metadata": {},
     "output_type": "execute_result"
    }
   ],
   "source": [
    "np.random.rand(5)"
   ]
  },
  {
   "cell_type": "code",
   "execution_count": 32,
   "id": "4aff6236",
   "metadata": {},
   "outputs": [
    {
     "data": {
      "text/plain": [
       "array([0.64589411, 0.43758721, 0.891773  , 0.96366276, 0.38344152,\n",
       "       0.79172504, 0.52889492, 0.56804456, 0.92559664, 0.07103606])"
      ]
     },
     "execution_count": 32,
     "metadata": {},
     "output_type": "execute_result"
    }
   ],
   "source": [
    "np.random.rand(10)"
   ]
  },
  {
   "cell_type": "code",
   "execution_count": 33,
   "id": "c8bf3033",
   "metadata": {},
   "outputs": [
    {
     "data": {
      "text/plain": [
       "array([0.0871293 , 0.0202184 , 0.83261985, 0.77815675, 0.87001215,\n",
       "       0.97861834, 0.79915856, 0.46147936, 0.78052918, 0.11827443])"
      ]
     },
     "execution_count": 33,
     "metadata": {},
     "output_type": "execute_result"
    }
   ],
   "source": [
    "np.random.rand(10)"
   ]
  },
  {
   "cell_type": "markdown",
   "id": "0313d949",
   "metadata": {},
   "source": [
    "## 데이터 순서 바꾸기"
   ]
  },
  {
   "cell_type": "markdown",
   "id": "034f40ac",
   "metadata": {},
   "source": [
    "데이터의 순서를 바꾸려면 `shuffle` 함수를 사용한다.<br>\n",
    "`shuffle` 함수도 자체 변환(in-place) 함수로 한 번 사용하면 변수의 값이 바뀌므로 사용에 주의해야 한다."
   ]
  },
  {
   "cell_type": "code",
   "execution_count": 35,
   "id": "da5ff511",
   "metadata": {},
   "outputs": [
    {
     "data": {
      "text/plain": [
       "array([0, 1, 2, 3, 4, 5, 6, 7, 8, 9])"
      ]
     },
     "execution_count": 35,
     "metadata": {},
     "output_type": "execute_result"
    }
   ],
   "source": [
    "x = np.arange(10)\n",
    "x"
   ]
  },
  {
   "cell_type": "code",
   "execution_count": 36,
   "id": "50cfec81",
   "metadata": {},
   "outputs": [
    {
     "data": {
      "text/plain": [
       "array([3, 6, 4, 5, 2, 9, 7, 8, 1, 0])"
      ]
     },
     "execution_count": 36,
     "metadata": {},
     "output_type": "execute_result"
    }
   ],
   "source": [
    "np.random.shuffle(x)\n",
    "x"
   ]
  },
  {
   "cell_type": "markdown",
   "id": "34b2e6bd",
   "metadata": {},
   "source": [
    "## 데이터 샘플링"
   ]
  },
  {
   "cell_type": "markdown",
   "id": "a76ff347",
   "metadata": {},
   "source": [
    "이미 있는 데이터 집합에서 일부를 무작위로 선택하는 것을 표본선택 혹은 샘플링(sampling)이라고 한다.<br> \n",
    "샘플링에는 `choice` 함수를 사용한다. `choice` 함수는 다음과 같은 인수를 가질 수 있다.\n",
    "```python\n",
    "numpy.random.choice(a, size=None, replace=True, p=None)\n",
    "```\n",
    "- a : 배열이면 원래의 데이터, 정수이면 arange(a) 명령으로 데이터 생성\n",
    "- size : 정수. 샘플 숫자\n",
    "- replace : 불리언. True이면 한번 선택한 데이터를 다시 선택 가능 \n",
    "    - 디폴트 값 : True\n",
    "- p : 배열. 각 데이터가 선택될 수 있는 확률"
   ]
  },
  {
   "cell_type": "code",
   "execution_count": 40,
   "id": "d22bdb03",
   "metadata": {},
   "outputs": [
    {
     "data": {
      "text/plain": [
       "array([4, 2, 3, 1, 0])"
      ]
     },
     "execution_count": 40,
     "metadata": {},
     "output_type": "execute_result"
    }
   ],
   "source": [
    "np.random.choice(5,5,False) # shuffle 명령과 같다."
   ]
  },
  {
   "cell_type": "code",
   "execution_count": 41,
   "id": "460c0a85",
   "metadata": {},
   "outputs": [
    {
     "data": {
      "text/plain": [
       "array([0, 3, 2])"
      ]
     },
     "execution_count": 41,
     "metadata": {},
     "output_type": "execute_result"
    }
   ],
   "source": [
    "np.random.choice(5,3,False) # 5개의 요소 중 3개만 선택"
   ]
  },
  {
   "cell_type": "code",
   "execution_count": 45,
   "id": "835e5b71",
   "metadata": {},
   "outputs": [
    {
     "data": {
      "text/plain": [
       "array([2, 0, 1, 1, 3, 0, 0, 1, 2, 4])"
      ]
     },
     "execution_count": 45,
     "metadata": {},
     "output_type": "execute_result"
    }
   ],
   "source": [
    "np.random.choice(5,10) # 반복해서 10개 선택"
   ]
  },
  {
   "cell_type": "code",
   "execution_count": 47,
   "id": "c0a97d7c",
   "metadata": {},
   "outputs": [
    {
     "data": {
      "text/plain": [
       "array([2, 2, 3, 0, 3, 3, 2, 3, 0, 3])"
      ]
     },
     "execution_count": 47,
     "metadata": {},
     "output_type": "execute_result"
    }
   ],
   "source": [
    "np.random.choice(5, 10, p=[0.1, 0, 0.3, 0.6, 0])  # 선택 확률을 다르게 해서 10개 선택"
   ]
  },
  {
   "cell_type": "markdown",
   "id": "f9cc197a",
   "metadata": {},
   "source": [
    "## 난수 생성\n",
    "- 넘파이의 random 서브패키지는 이외에도 난수를 생성하는 다양한 함수를 제공된다.<br><br>\n",
    "\n",
    " `rand`: 0부터 1사이의 균일 분포<br>\n",
    " `randn`: 표준 정규 분포<br>\n",
    " `randint`: 균일 분포의 정수 난수<br>\n"
   ]
  },
  {
   "cell_type": "markdown",
   "id": "9fba4da2",
   "metadata": {},
   "source": [
    "### `rand( )` 함수\n",
    "- 0부터 1사이에서 균일한 확률 분포로 실수 난수를 생성 \n",
    "- 숫자 인수 == 생성할 난수의 크기\n",
    "- 여러개의 인수를 넣으면 해당 크기를 가진 행렬을 생성"
   ]
  },
  {
   "cell_type": "code",
   "execution_count": 48,
   "id": "1489985d",
   "metadata": {},
   "outputs": [
    {
     "data": {
      "text/plain": [
       "array([0.9292962 , 0.31856895, 0.66741038, 0.13179786, 0.7163272 ,\n",
       "       0.28940609, 0.18319136, 0.58651293, 0.02010755, 0.82894003])"
      ]
     },
     "execution_count": 48,
     "metadata": {},
     "output_type": "execute_result"
    }
   ],
   "source": [
    "np.random.rand(10)"
   ]
  },
  {
   "cell_type": "code",
   "execution_count": 49,
   "id": "8945a619",
   "metadata": {},
   "outputs": [
    {
     "data": {
      "text/plain": [
       "array([[0.00469548, 0.67781654, 0.27000797, 0.73519402, 0.96218855],\n",
       "       [0.24875314, 0.57615733, 0.59204193, 0.57225191, 0.22308163],\n",
       "       [0.95274901, 0.44712538, 0.84640867, 0.69947928, 0.29743695]])"
      ]
     },
     "execution_count": 49,
     "metadata": {},
     "output_type": "execute_result"
    }
   ],
   "source": [
    "np.random.rand(3,5)"
   ]
  },
  {
   "cell_type": "markdown",
   "id": "e88b5cf9",
   "metadata": {},
   "source": [
    "### `randn( )` 함수\n",
    "- 기대값이 0이고, 표준편차가 1인 표준 정규분포를 따르는 난수를 생성\n",
    "- 사용법은 rand()와 같다"
   ]
  },
  {
   "cell_type": "code",
   "execution_count": 50,
   "id": "a47db94a",
   "metadata": {},
   "outputs": [
    {
     "data": {
      "text/plain": [
       "array([-0.40317695,  1.22244507,  0.20827498,  0.97663904,  0.3563664 ,\n",
       "        0.70657317,  0.01050002,  1.78587049,  0.12691209,  0.40198936])"
      ]
     },
     "execution_count": 50,
     "metadata": {},
     "output_type": "execute_result"
    }
   ],
   "source": [
    "np.random.randn(10)"
   ]
  },
  {
   "cell_type": "code",
   "execution_count": 52,
   "id": "e8f1f816",
   "metadata": {},
   "outputs": [
    {
     "data": {
      "text/plain": [
       "array([[ 0.8024564 ,  0.94725197, -0.15501009,  0.61407937,  0.92220667],\n",
       "       [ 0.37642553, -1.09940079,  0.29823817,  1.3263859 , -0.69456786],\n",
       "       [-0.14963454, -0.43515355,  1.84926373,  0.67229476,  0.40746184]])"
      ]
     },
     "execution_count": 52,
     "metadata": {},
     "output_type": "execute_result"
    }
   ],
   "source": [
    "np.random.randn(3,5)"
   ]
  },
  {
   "cell_type": "markdown",
   "id": "0d518c0d",
   "metadata": {},
   "source": [
    "### `randint( )` 함수\n",
    "```python\n",
    "numpy.random.randint(low,hight=None,size=None)\n",
    "```\n",
    "- 만약 hight를 입력하지 않으면 0과 low사이의 숫자를, hight를 입력하면 low와 hight 사이의 숫자를 출력 \n",
    "- size는 난수의 숫자"
   ]
  },
  {
   "cell_type": "code",
   "execution_count": 53,
   "id": "39466397",
   "metadata": {},
   "outputs": [
    {
     "data": {
      "text/plain": [
       "array([9, 7, 7, 5, 1, 2, 2, 8, 1, 5])"
      ]
     },
     "execution_count": 53,
     "metadata": {},
     "output_type": "execute_result"
    }
   ],
   "source": [
    "np.random.randint(10,size = 10)"
   ]
  },
  {
   "cell_type": "code",
   "execution_count": 54,
   "id": "7a38ad52",
   "metadata": {},
   "outputs": [
    {
     "data": {
      "text/plain": [
       "array([18, 14, 10, 12, 15, 15, 10, 18, 11, 11])"
      ]
     },
     "execution_count": 54,
     "metadata": {},
     "output_type": "execute_result"
    }
   ],
   "source": [
    "np.random.randint(10,20,size = 10)"
   ]
  },
  {
   "cell_type": "code",
   "execution_count": 55,
   "id": "c21600ab",
   "metadata": {},
   "outputs": [
    {
     "data": {
      "text/plain": [
       "array([[10, 13, 18, 18],\n",
       "       [14, 14, 10, 19],\n",
       "       [13, 17, 13, 12]])"
      ]
     },
     "execution_count": 55,
     "metadata": {},
     "output_type": "execute_result"
    }
   ],
   "source": [
    "np.random.randint(10,20,size=(3,4))"
   ]
  },
  {
   "cell_type": "markdown",
   "id": "d59b3cf9",
   "metadata": {},
   "source": [
    "## 정수 데이터 카운팅\n",
    "- 발생시킨 난수가 실수값이면 히스토그램 등을 사용하여 분석하면 된다. \n",
    "- 만약 난수가 정수값이면 `unique` 명령이나 `bincount` 명령으로 데이터 값을 분석할 수 있다."
   ]
  },
  {
   "cell_type": "markdown",
   "id": "a3fe736a",
   "metadata": {},
   "source": [
    "### `unique( )` 함수\n",
    "- 데이터에서 중복된 값을 제거하고 중복되지 않는 값의 리스트를 출력\n",
    "- `return_counts`인수를 True로 설정하면 각 값을 가진 데이터 갯수도 출력한다."
   ]
  },
  {
   "cell_type": "code",
   "execution_count": 56,
   "id": "5240c65f",
   "metadata": {},
   "outputs": [
    {
     "data": {
      "text/plain": [
       "array([ 2, 11, 34])"
      ]
     },
     "execution_count": 56,
     "metadata": {},
     "output_type": "execute_result"
    }
   ],
   "source": [
    "np.unique([11,11,2,2,34,34])"
   ]
  },
  {
   "cell_type": "code",
   "execution_count": 60,
   "id": "2879c9d5",
   "metadata": {},
   "outputs": [
    {
     "name": "stdout",
     "output_type": "stream",
     "text": [
      "['a' 'b' 'c'] [2 2 1]\n"
     ]
    }
   ],
   "source": [
    "a = np.array(['a','b','b','c','a'])\n",
    "index, count = np.unique(a,return_counts=True)\n",
    "print(index, count)"
   ]
  },
  {
   "cell_type": "markdown",
   "id": "b1498026",
   "metadata": {},
   "source": [
    "`unique`함수는 데이터에 존재하는 값에 대해서만 갯수를 센다. 그래서 데이터 값이 나올 수 있음에도 불구하고 데이터가 하나도 없는 경우에는 정보를 주지 않는다.<br>\n",
    "예를 들어, 주사위를 10번 던졌는데 6이 한 번도 안나온다면 이 값을 0으로 세어주지 않는다."
   ]
  },
  {
   "cell_type": "markdown",
   "id": "f23d4ea5",
   "metadata": {},
   "source": [
    "### `bincount( )`함수\n",
    "- 데이터가 주사위를 던졌을 때 나오는 수처럼 특정 범위 안의 수인 경우에는 `bincount`함수에 `minlength`인수를 설정하여 사용하면 된다.\n",
    "- `bincount`함수는 0부터 `minlength - 1`까지의 숫자에 대해 각각 카운트를 하는데, 데이터가 없을 경우에는 카운트 값이 0이 된다."
   ]
  },
  {
   "cell_type": "code",
   "execution_count": 61,
   "id": "0ae9b612",
   "metadata": {},
   "outputs": [
    {
     "data": {
      "text/plain": [
       "array([0, 2, 3, 1, 0, 0])"
      ]
     },
     "execution_count": 61,
     "metadata": {},
     "output_type": "execute_result"
    }
   ],
   "source": [
    "np.bincount([1,1,2,2,2,3],minlength=6)"
   ]
  },
  {
   "cell_type": "markdown",
   "id": "8bcb4aa9",
   "metadata": {},
   "source": [
    "참고) https://datascienceschool.net/01%20python/03.05%20난수%20발생과%20카운팅.html"
   ]
  },
  {
   "cell_type": "code",
   "execution_count": null,
   "id": "35705f28",
   "metadata": {},
   "outputs": [],
   "source": []
  }
 ],
 "metadata": {
  "kernelspec": {
   "display_name": "tf",
   "language": "python",
   "name": "tf"
  },
  "language_info": {
   "codemirror_mode": {
    "name": "ipython",
    "version": 3
   },
   "file_extension": ".py",
   "mimetype": "text/x-python",
   "name": "python",
   "nbconvert_exporter": "python",
   "pygments_lexer": "ipython3",
   "version": "3.8.12"
  }
 },
 "nbformat": 4,
 "nbformat_minor": 5
}
