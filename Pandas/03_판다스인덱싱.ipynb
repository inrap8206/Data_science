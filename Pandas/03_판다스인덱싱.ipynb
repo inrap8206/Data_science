{
 "cells": [
  {
   "cell_type": "markdown",
   "id": "c8032166",
   "metadata": {},
   "source": [
    "판다스는 넘파이 행렬과 같이 쉼표를 사용한 `(행 인덱스, 열 인덱스)` 형식의 2차원 인덱싱을 지원하기 위해 `loc`, `iloc`와 같은 인덱서(indexer)속성을 제공한다.<br>\n",
    "- loc : 라벨값 기반의 2차원 인덱싱\n",
    "- iloc : 순서를 나타내는 정수 기반의 2차원 인덱싱"
   ]
  },
  {
   "cell_type": "markdown",
   "id": "ce7025d6",
   "metadata": {},
   "source": [
    "## loc \n",
    "```python\n",
    "df.loc[행 인덱싱값]\n",
    "df.loc[행 인덱싱값, 열 인덱싱값]\n",
    "```\n",
    "행 인덱싱 값 : 정수 또는 행 인덱스데이터<br>\n",
    "열 인덱싱 값 : 라벨 문자열"
   ]
  },
  {
   "cell_type": "code",
   "execution_count": null,
   "id": "95ea2466",
   "metadata": {},
   "outputs": [],
   "source": [
    "df = pd.DataFrame(np.arange(10,22).reshape(3,4),\n",
    "                 index = [])"
   ]
  }
 ],
 "metadata": {
  "kernelspec": {
   "display_name": "tf",
   "language": "python",
   "name": "tf"
  },
  "language_info": {
   "codemirror_mode": {
    "name": "ipython",
    "version": 3
   },
   "file_extension": ".py",
   "mimetype": "text/x-python",
   "name": "python",
   "nbconvert_exporter": "python",
   "pygments_lexer": "ipython3",
   "version": "3.8.12"
  }
 },
 "nbformat": 4,
 "nbformat_minor": 5
}
